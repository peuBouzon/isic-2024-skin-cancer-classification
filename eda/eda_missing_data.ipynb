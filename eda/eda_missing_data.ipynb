{
 "cells": [
  {
   "cell_type": "code",
   "execution_count": 82,
   "id": "2ec62b8c",
   "metadata": {},
   "outputs": [],
   "source": [
    "import pandas as pd"
   ]
  },
  {
   "cell_type": "code",
   "execution_count": 83,
   "id": "a0826e9a",
   "metadata": {},
   "outputs": [
    {
     "name": "stderr",
     "output_type": "stream",
     "text": [
      "/tmp/ipykernel_10783/561533406.py:1: DtypeWarning: Columns (51,52) have mixed types. Specify dtype option on import or set low_memory=False.\n",
      "  df = pd.read_csv('~/ufes/datasets/ISIC2024/train-metadata.csv')\n"
     ]
    }
   ],
   "source": [
    "df = pd.read_csv('~/ufes/datasets/ISIC2024/train-metadata.csv')"
   ]
  },
  {
   "cell_type": "code",
   "execution_count": 84,
   "id": "af089b50",
   "metadata": {},
   "outputs": [],
   "source": [
    "non_features = ['isic_id', 'target', 'patient_id',\n",
    "    'image_type', 'tbp_tile_type', 'attribution', 'copyright_license', \n",
    "    'lesion_id', 'iddx_full', 'iddx_1', 'iddx_2', 'iddx_3', \n",
    "    'iddx_4', 'iddx_5', 'mel_mitotic_index', 'mel_thick_mm']"
   ]
  },
  {
   "cell_type": "code",
   "execution_count": 85,
   "id": "cc2ebca1",
   "metadata": {},
   "outputs": [
    {
     "name": "stdout",
     "output_type": "stream",
     "text": [
      "Number of features: 39\n"
     ]
    }
   ],
   "source": [
    "features = list(set(df.columns) - set(non_features))\n",
    "print(f'Number of features: {len(features)}')"
   ]
  },
  {
   "cell_type": "code",
   "execution_count": 86,
   "id": "031e7f82",
   "metadata": {},
   "outputs": [
    {
     "data": {
      "text/plain": [
       "diagnosis\n",
       "benign       400666\n",
       "malignant       393\n",
       "Name: count, dtype: int64"
      ]
     },
     "execution_count": 86,
     "metadata": {},
     "output_type": "execute_result"
    }
   ],
   "source": [
    "df['target'] = df['target'].astype(int)\n",
    "df['diagnosis'] = df['target'].map({0:'benign', 1:'malignant'}) \n",
    "df['diagnosis'] = df['diagnosis'].astype('category')\n",
    "df['diagnosis'].value_counts()"
   ]
  },
  {
   "cell_type": "markdown",
   "id": "88415ff4",
   "metadata": {},
   "source": [
    "## Missing data analysis"
   ]
  },
  {
   "cell_type": "markdown",
   "id": "ba301ff8",
   "metadata": {},
   "source": [
    "### Columns with missing values"
   ]
  },
  {
   "cell_type": "code",
   "execution_count": 87,
   "id": "45582b59",
   "metadata": {},
   "outputs": [
    {
     "data": {
      "text/plain": [
       "age_approx              2798\n",
       "anatom_site_general     5756\n",
       "sex                    11517\n",
       "dtype: int64"
      ]
     },
     "execution_count": 87,
     "metadata": {},
     "output_type": "execute_result"
    }
   ],
   "source": [
    "is_na = df.isna()\n",
    "count_nan = is_na.sum()\n",
    "features_with_nan_values = list(count_nan[features][count_nan > 0].index)\n",
    "count_nan[features_with_nan_values]"
   ]
  },
  {
   "cell_type": "markdown",
   "id": "4a135f8a",
   "metadata": {},
   "source": [
    "### Percentage of missing values"
   ]
  },
  {
   "cell_type": "code",
   "execution_count": 88,
   "id": "7a9ae0b4",
   "metadata": {},
   "outputs": [
    {
     "data": {
      "text/plain": [
       "age_approx             0.697653\n",
       "anatom_site_general    1.435200\n",
       "sex                    2.871647\n",
       "dtype: float64"
      ]
     },
     "execution_count": 88,
     "metadata": {},
     "output_type": "execute_result"
    }
   ],
   "source": [
    "count_nan[features_with_nan_values] / len(df) * 100"
   ]
  },
  {
   "cell_type": "markdown",
   "id": "48d6b84b",
   "metadata": {},
   "source": [
    "### Columns with values equals to zero"
   ]
  },
  {
   "cell_type": "code",
   "execution_count": 89,
   "id": "daa2e830",
   "metadata": {},
   "outputs": [
    {
     "data": {
      "text/plain": [
       "tbp_lv_symm_2axis_angle        18562\n",
       "tbp_lv_norm_color              26182\n",
       "tbp_lv_color_std_mean          26187\n",
       "tbp_lv_nevi_confidence             6\n",
       "tbp_lv_radial_color_std_max    29733\n",
       "dtype: int64"
      ]
     },
     "execution_count": 89,
     "metadata": {},
     "output_type": "execute_result"
    }
   ],
   "source": [
    "is_zero = df.isin([0])\n",
    "count_zero = is_zero.sum()\n",
    "features_with_zeroed_values = list(count_zero[features][count_zero > 0].index)\n",
    "count_zero[features_with_zeroed_values]"
   ]
  },
  {
   "cell_type": "markdown",
   "id": "4f3b6d3e",
   "metadata": {},
   "source": [
    "### Percentage of values equals to zero"
   ]
  },
  {
   "cell_type": "code",
   "execution_count": 90,
   "id": "52f8fd07",
   "metadata": {},
   "outputs": [
    {
     "data": {
      "text/plain": [
       "tbp_lv_symm_2axis_angle        4.628247\n",
       "tbp_lv_norm_color              6.528217\n",
       "tbp_lv_color_std_mean          6.529463\n",
       "tbp_lv_nevi_confidence         0.001496\n",
       "tbp_lv_radial_color_std_max    7.413622\n",
       "dtype: float64"
      ]
     },
     "execution_count": 90,
     "metadata": {},
     "output_type": "execute_result"
    }
   ],
   "source": [
    "count_zero[features_with_zeroed_values] / len(df) * 100"
   ]
  },
  {
   "cell_type": "markdown",
   "id": "4c70d94e",
   "metadata": {},
   "source": [
    "## Per-class analysis"
   ]
  },
  {
   "cell_type": "markdown",
   "id": "b55524c7",
   "metadata": {},
   "source": [
    "### Frequency of missing values per class"
   ]
  },
  {
   "cell_type": "code",
   "execution_count": 91,
   "id": "41930e2c",
   "metadata": {},
   "outputs": [
    {
     "name": "stdout",
     "output_type": "stream",
     "text": [
      "--------------------------------------------------\n",
      "Percentage of missing values for BENIGN class:\n",
      "age_approx              2795\n",
      "anatom_site_general     5756\n",
      "sex                    11507\n",
      "diagnosis                  0\n",
      "dtype: int64 \n",
      "\n",
      "--------------------------------------------------\n",
      "Percentage of missing values for MALIGNANT class:\n",
      "age_approx              3\n",
      "anatom_site_general     0\n",
      "sex                    10\n",
      "diagnosis               0\n",
      "dtype: int64 \n",
      "\n"
     ]
    },
    {
     "name": "stderr",
     "output_type": "stream",
     "text": [
      "/tmp/ipykernel_10783/3569823170.py:1: FutureWarning: The default of observed=False is deprecated and will be changed to True in a future version of pandas. Pass observed=False to retain current behavior or observed=True to adopt the future default and silence this warning.\n",
      "  is_na_per_diagnosis = df[features_with_nan_values + ['diagnosis']].groupby(['diagnosis']).apply(lambda x : x.isna())\n",
      "/tmp/ipykernel_10783/3569823170.py:1: DeprecationWarning: DataFrameGroupBy.apply operated on the grouping columns. This behavior is deprecated, and in a future version of pandas the grouping columns will be excluded from the operation. Either pass `include_groups=False` to exclude the groupings or explicitly select the grouping columns after groupby to silence this warning.\n",
      "  is_na_per_diagnosis = df[features_with_nan_values + ['diagnosis']].groupby(['diagnosis']).apply(lambda x : x.isna())\n"
     ]
    }
   ],
   "source": [
    "is_na_per_diagnosis = df[features_with_nan_values + ['diagnosis']].groupby(['diagnosis']).apply(lambda x : x.isna())\n",
    "for diagnosis in df['diagnosis'].unique():\n",
    "    print('-' * 50)\n",
    "    print(f'Percentage of missing values for {diagnosis.upper()} class:')\n",
    "    print(is_na_per_diagnosis.loc[diagnosis].sum(),'\\n')"
   ]
  },
  {
   "cell_type": "markdown",
   "id": "0ce74a13",
   "metadata": {},
   "source": [
    "### Frequency of values equals to zero per class"
   ]
  },
  {
   "cell_type": "code",
   "execution_count": 92,
   "id": "9a35f67a",
   "metadata": {},
   "outputs": [
    {
     "name": "stderr",
     "output_type": "stream",
     "text": [
      "/tmp/ipykernel_10783/3069690140.py:1: FutureWarning: The default of observed=False is deprecated and will be changed to True in a future version of pandas. Pass observed=False to retain current behavior or observed=True to adopt the future default and silence this warning.\n",
      "  is_na_per_diagnosis = df[features_with_zeroed_values + ['diagnosis']].groupby(['diagnosis']).apply(lambda x : x.isin([0]))\n"
     ]
    },
    {
     "name": "stdout",
     "output_type": "stream",
     "text": [
      "--------------------------------------------------\n",
      "Percentage of missing values for BENIGN class:\n",
      "tbp_lv_symm_2axis_angle        18543\n",
      "tbp_lv_norm_color              26092\n",
      "tbp_lv_color_std_mean          26097\n",
      "tbp_lv_nevi_confidence             6\n",
      "tbp_lv_radial_color_std_max    29642\n",
      "diagnosis                          0\n",
      "dtype: int64 \n",
      "\n",
      "--------------------------------------------------\n",
      "Percentage of missing values for MALIGNANT class:\n",
      "tbp_lv_symm_2axis_angle        19\n",
      "tbp_lv_norm_color              90\n",
      "tbp_lv_color_std_mean          90\n",
      "tbp_lv_nevi_confidence          0\n",
      "tbp_lv_radial_color_std_max    91\n",
      "diagnosis                       0\n",
      "dtype: int64 \n",
      "\n"
     ]
    },
    {
     "name": "stderr",
     "output_type": "stream",
     "text": [
      "/tmp/ipykernel_10783/3069690140.py:1: DeprecationWarning: DataFrameGroupBy.apply operated on the grouping columns. This behavior is deprecated, and in a future version of pandas the grouping columns will be excluded from the operation. Either pass `include_groups=False` to exclude the groupings or explicitly select the grouping columns after groupby to silence this warning.\n",
      "  is_na_per_diagnosis = df[features_with_zeroed_values + ['diagnosis']].groupby(['diagnosis']).apply(lambda x : x.isin([0]))\n"
     ]
    }
   ],
   "source": [
    "is_na_per_diagnosis = df[features_with_zeroed_values + ['diagnosis']].groupby(['diagnosis']).apply(lambda x : x.isin([0]))\n",
    "for diagnosis in df['diagnosis'].unique():\n",
    "    print('-' * 50)\n",
    "    print(f'Percentage of missing values for {diagnosis.upper()} class:')\n",
    "    print(is_na_per_diagnosis.loc[diagnosis].sum(),'\\n')"
   ]
  }
 ],
 "metadata": {
  "kernelspec": {
   "display_name": "life",
   "language": "python",
   "name": "python3"
  },
  "language_info": {
   "codemirror_mode": {
    "name": "ipython",
    "version": 3
   },
   "file_extension": ".py",
   "mimetype": "text/x-python",
   "name": "python",
   "nbconvert_exporter": "python",
   "pygments_lexer": "ipython3",
   "version": "3.13.1"
  }
 },
 "nbformat": 4,
 "nbformat_minor": 5
}
